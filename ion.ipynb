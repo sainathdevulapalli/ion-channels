{
 "cells": [
  {
   "cell_type": "code",
   "execution_count": 1,
   "metadata": {},
   "outputs": [],
   "source": [
    "import pandas as pd\n",
    "from matplotlib import pyplot as plt\n",
    "import numpy as np\n",
    "import scipy.stats"
   ]
  },
  {
   "cell_type": "code",
   "execution_count": 2,
   "metadata": {},
   "outputs": [
    {
     "data": {
      "text/html": [
       "<div>\n",
       "<style scoped>\n",
       "    .dataframe tbody tr th:only-of-type {\n",
       "        vertical-align: middle;\n",
       "    }\n",
       "\n",
       "    .dataframe tbody tr th {\n",
       "        vertical-align: top;\n",
       "    }\n",
       "\n",
       "    .dataframe thead th {\n",
       "        text-align: right;\n",
       "    }\n",
       "</style>\n",
       "<table border=\"1\" class=\"dataframe\">\n",
       "  <thead>\n",
       "    <tr style=\"text-align: right;\">\n",
       "      <th></th>\n",
       "      <th>time</th>\n",
       "      <th>signal</th>\n",
       "      <th>open_channels</th>\n",
       "    </tr>\n",
       "  </thead>\n",
       "  <tbody>\n",
       "    <tr>\n",
       "      <th>0</th>\n",
       "      <td>0.0001</td>\n",
       "      <td>-2.7600</td>\n",
       "      <td>0</td>\n",
       "    </tr>\n",
       "    <tr>\n",
       "      <th>1</th>\n",
       "      <td>0.0002</td>\n",
       "      <td>-2.8557</td>\n",
       "      <td>0</td>\n",
       "    </tr>\n",
       "    <tr>\n",
       "      <th>2</th>\n",
       "      <td>0.0003</td>\n",
       "      <td>-2.4074</td>\n",
       "      <td>0</td>\n",
       "    </tr>\n",
       "    <tr>\n",
       "      <th>3</th>\n",
       "      <td>0.0004</td>\n",
       "      <td>-3.1404</td>\n",
       "      <td>0</td>\n",
       "    </tr>\n",
       "    <tr>\n",
       "      <th>4</th>\n",
       "      <td>0.0005</td>\n",
       "      <td>-3.1525</td>\n",
       "      <td>0</td>\n",
       "    </tr>\n",
       "    <tr>\n",
       "      <th>...</th>\n",
       "      <td>...</td>\n",
       "      <td>...</td>\n",
       "      <td>...</td>\n",
       "    </tr>\n",
       "    <tr>\n",
       "      <th>4999995</th>\n",
       "      <td>499.9996</td>\n",
       "      <td>2.9194</td>\n",
       "      <td>7</td>\n",
       "    </tr>\n",
       "    <tr>\n",
       "      <th>4999996</th>\n",
       "      <td>499.9997</td>\n",
       "      <td>2.6980</td>\n",
       "      <td>7</td>\n",
       "    </tr>\n",
       "    <tr>\n",
       "      <th>4999997</th>\n",
       "      <td>499.9998</td>\n",
       "      <td>4.5164</td>\n",
       "      <td>8</td>\n",
       "    </tr>\n",
       "    <tr>\n",
       "      <th>4999998</th>\n",
       "      <td>499.9999</td>\n",
       "      <td>5.6397</td>\n",
       "      <td>9</td>\n",
       "    </tr>\n",
       "    <tr>\n",
       "      <th>4999999</th>\n",
       "      <td>500.0000</td>\n",
       "      <td>5.3792</td>\n",
       "      <td>9</td>\n",
       "    </tr>\n",
       "  </tbody>\n",
       "</table>\n",
       "<p>5000000 rows × 3 columns</p>\n",
       "</div>"
      ],
      "text/plain": [
       "             time  signal  open_channels\n",
       "0          0.0001 -2.7600              0\n",
       "1          0.0002 -2.8557              0\n",
       "2          0.0003 -2.4074              0\n",
       "3          0.0004 -3.1404              0\n",
       "4          0.0005 -3.1525              0\n",
       "...           ...     ...            ...\n",
       "4999995  499.9996  2.9194              7\n",
       "4999996  499.9997  2.6980              7\n",
       "4999997  499.9998  4.5164              8\n",
       "4999998  499.9999  5.6397              9\n",
       "4999999  500.0000  5.3792              9\n",
       "\n",
       "[5000000 rows x 3 columns]"
      ]
     },
     "execution_count": 2,
     "metadata": {},
     "output_type": "execute_result"
    }
   ],
   "source": [
    "train_df = pd.read_csv('train.csv')\n",
    "test_df = pd.read_csv('test.csv')\n",
    "train_df"
   ]
  },
  {
   "cell_type": "code",
   "execution_count": 3,
   "metadata": {},
   "outputs": [
    {
     "data": {
      "text/plain": [
       "(5000000, 3)"
      ]
     },
     "execution_count": 3,
     "metadata": {},
     "output_type": "execute_result"
    }
   ],
   "source": [
    "train_df.shape"
   ]
  },
  {
   "cell_type": "code",
   "execution_count": 4,
   "metadata": {},
   "outputs": [
    {
     "data": {
      "text/html": [
       "<div>\n",
       "<style scoped>\n",
       "    .dataframe tbody tr th:only-of-type {\n",
       "        vertical-align: middle;\n",
       "    }\n",
       "\n",
       "    .dataframe tbody tr th {\n",
       "        vertical-align: top;\n",
       "    }\n",
       "\n",
       "    .dataframe thead th {\n",
       "        text-align: right;\n",
       "    }\n",
       "</style>\n",
       "<table border=\"1\" class=\"dataframe\">\n",
       "  <thead>\n",
       "    <tr style=\"text-align: right;\">\n",
       "      <th></th>\n",
       "      <th>time</th>\n",
       "      <th>signal</th>\n",
       "      <th>open_channels</th>\n",
       "    </tr>\n",
       "  </thead>\n",
       "  <tbody>\n",
       "    <tr>\n",
       "      <th>count</th>\n",
       "      <td>5.000000e+06</td>\n",
       "      <td>5.000000e+06</td>\n",
       "      <td>5.000000e+06</td>\n",
       "    </tr>\n",
       "    <tr>\n",
       "      <th>mean</th>\n",
       "      <td>2.500001e+02</td>\n",
       "      <td>1.386246e+00</td>\n",
       "      <td>2.726043e+00</td>\n",
       "    </tr>\n",
       "    <tr>\n",
       "      <th>std</th>\n",
       "      <td>1.443376e+02</td>\n",
       "      <td>3.336219e+00</td>\n",
       "      <td>2.665051e+00</td>\n",
       "    </tr>\n",
       "    <tr>\n",
       "      <th>min</th>\n",
       "      <td>1.000000e-04</td>\n",
       "      <td>-5.796500e+00</td>\n",
       "      <td>0.000000e+00</td>\n",
       "    </tr>\n",
       "    <tr>\n",
       "      <th>25%</th>\n",
       "      <td>1.250001e+02</td>\n",
       "      <td>-1.594800e+00</td>\n",
       "      <td>1.000000e+00</td>\n",
       "    </tr>\n",
       "    <tr>\n",
       "      <th>50%</th>\n",
       "      <td>2.500000e+02</td>\n",
       "      <td>1.124000e+00</td>\n",
       "      <td>2.000000e+00</td>\n",
       "    </tr>\n",
       "    <tr>\n",
       "      <th>75%</th>\n",
       "      <td>3.750000e+02</td>\n",
       "      <td>3.690100e+00</td>\n",
       "      <td>4.000000e+00</td>\n",
       "    </tr>\n",
       "    <tr>\n",
       "      <th>max</th>\n",
       "      <td>5.000000e+02</td>\n",
       "      <td>1.324400e+01</td>\n",
       "      <td>1.000000e+01</td>\n",
       "    </tr>\n",
       "  </tbody>\n",
       "</table>\n",
       "</div>"
      ],
      "text/plain": [
       "               time        signal  open_channels\n",
       "count  5.000000e+06  5.000000e+06   5.000000e+06\n",
       "mean   2.500001e+02  1.386246e+00   2.726043e+00\n",
       "std    1.443376e+02  3.336219e+00   2.665051e+00\n",
       "min    1.000000e-04 -5.796500e+00   0.000000e+00\n",
       "25%    1.250001e+02 -1.594800e+00   1.000000e+00\n",
       "50%    2.500000e+02  1.124000e+00   2.000000e+00\n",
       "75%    3.750000e+02  3.690100e+00   4.000000e+00\n",
       "max    5.000000e+02  1.324400e+01   1.000000e+01"
      ]
     },
     "execution_count": 4,
     "metadata": {},
     "output_type": "execute_result"
    }
   ],
   "source": [
    "train_df.describe()"
   ]
  },
  {
   "cell_type": "code",
   "execution_count": 5,
   "metadata": {},
   "outputs": [
    {
     "data": {
      "text/html": [
       "<div>\n",
       "<style scoped>\n",
       "    .dataframe tbody tr th:only-of-type {\n",
       "        vertical-align: middle;\n",
       "    }\n",
       "\n",
       "    .dataframe tbody tr th {\n",
       "        vertical-align: top;\n",
       "    }\n",
       "\n",
       "    .dataframe thead th {\n",
       "        text-align: right;\n",
       "    }\n",
       "</style>\n",
       "<table border=\"1\" class=\"dataframe\">\n",
       "  <thead>\n",
       "    <tr style=\"text-align: right;\">\n",
       "      <th></th>\n",
       "      <th>time</th>\n",
       "      <th>signal</th>\n",
       "      <th>open_channels</th>\n",
       "    </tr>\n",
       "  </thead>\n",
       "  <tbody>\n",
       "    <tr>\n",
       "      <th>0</th>\n",
       "      <td>0.0001</td>\n",
       "      <td>-2.7600</td>\n",
       "      <td>0</td>\n",
       "    </tr>\n",
       "    <tr>\n",
       "      <th>1</th>\n",
       "      <td>0.0002</td>\n",
       "      <td>-2.8557</td>\n",
       "      <td>0</td>\n",
       "    </tr>\n",
       "    <tr>\n",
       "      <th>2</th>\n",
       "      <td>0.0003</td>\n",
       "      <td>-2.4074</td>\n",
       "      <td>0</td>\n",
       "    </tr>\n",
       "    <tr>\n",
       "      <th>3</th>\n",
       "      <td>0.0004</td>\n",
       "      <td>-3.1404</td>\n",
       "      <td>0</td>\n",
       "    </tr>\n",
       "    <tr>\n",
       "      <th>4</th>\n",
       "      <td>0.0005</td>\n",
       "      <td>-3.1525</td>\n",
       "      <td>0</td>\n",
       "    </tr>\n",
       "  </tbody>\n",
       "</table>\n",
       "</div>"
      ],
      "text/plain": [
       "     time  signal  open_channels\n",
       "0  0.0001 -2.7600              0\n",
       "1  0.0002 -2.8557              0\n",
       "2  0.0003 -2.4074              0\n",
       "3  0.0004 -3.1404              0\n",
       "4  0.0005 -3.1525              0"
      ]
     },
     "execution_count": 5,
     "metadata": {},
     "output_type": "execute_result"
    }
   ],
   "source": [
    "train_df.head(5)"
   ]
  },
  {
   "cell_type": "code",
   "execution_count": 6,
   "metadata": {},
   "outputs": [
    {
     "data": {
      "text/html": [
       "<div>\n",
       "<style scoped>\n",
       "    .dataframe tbody tr th:only-of-type {\n",
       "        vertical-align: middle;\n",
       "    }\n",
       "\n",
       "    .dataframe tbody tr th {\n",
       "        vertical-align: top;\n",
       "    }\n",
       "\n",
       "    .dataframe thead th {\n",
       "        text-align: right;\n",
       "    }\n",
       "</style>\n",
       "<table border=\"1\" class=\"dataframe\">\n",
       "  <thead>\n",
       "    <tr style=\"text-align: right;\">\n",
       "      <th></th>\n",
       "      <th>time</th>\n",
       "      <th>signal</th>\n",
       "      <th>open_channels</th>\n",
       "    </tr>\n",
       "  </thead>\n",
       "  <tbody>\n",
       "    <tr>\n",
       "      <th>0</th>\n",
       "      <td>0.0001</td>\n",
       "      <td>-2.7600</td>\n",
       "      <td>0</td>\n",
       "    </tr>\n",
       "    <tr>\n",
       "      <th>1</th>\n",
       "      <td>0.0002</td>\n",
       "      <td>-2.8557</td>\n",
       "      <td>0</td>\n",
       "    </tr>\n",
       "    <tr>\n",
       "      <th>2</th>\n",
       "      <td>0.0003</td>\n",
       "      <td>-2.4074</td>\n",
       "      <td>0</td>\n",
       "    </tr>\n",
       "    <tr>\n",
       "      <th>3</th>\n",
       "      <td>0.0004</td>\n",
       "      <td>-3.1404</td>\n",
       "      <td>0</td>\n",
       "    </tr>\n",
       "    <tr>\n",
       "      <th>4</th>\n",
       "      <td>0.0005</td>\n",
       "      <td>-3.1525</td>\n",
       "      <td>0</td>\n",
       "    </tr>\n",
       "    <tr>\n",
       "      <th>...</th>\n",
       "      <td>...</td>\n",
       "      <td>...</td>\n",
       "      <td>...</td>\n",
       "    </tr>\n",
       "    <tr>\n",
       "      <th>499995</th>\n",
       "      <td>49.9996</td>\n",
       "      <td>-2.7725</td>\n",
       "      <td>0</td>\n",
       "    </tr>\n",
       "    <tr>\n",
       "      <th>499996</th>\n",
       "      <td>49.9997</td>\n",
       "      <td>-2.8171</td>\n",
       "      <td>0</td>\n",
       "    </tr>\n",
       "    <tr>\n",
       "      <th>499997</th>\n",
       "      <td>49.9998</td>\n",
       "      <td>-2.9536</td>\n",
       "      <td>0</td>\n",
       "    </tr>\n",
       "    <tr>\n",
       "      <th>499998</th>\n",
       "      <td>49.9999</td>\n",
       "      <td>-2.7725</td>\n",
       "      <td>0</td>\n",
       "    </tr>\n",
       "    <tr>\n",
       "      <th>499999</th>\n",
       "      <td>50.0000</td>\n",
       "      <td>-2.8171</td>\n",
       "      <td>0</td>\n",
       "    </tr>\n",
       "  </tbody>\n",
       "</table>\n",
       "<p>500000 rows × 3 columns</p>\n",
       "</div>"
      ],
      "text/plain": [
       "           time  signal  open_channels\n",
       "0        0.0001 -2.7600              0\n",
       "1        0.0002 -2.8557              0\n",
       "2        0.0003 -2.4074              0\n",
       "3        0.0004 -3.1404              0\n",
       "4        0.0005 -3.1525              0\n",
       "...         ...     ...            ...\n",
       "499995  49.9996 -2.7725              0\n",
       "499996  49.9997 -2.8171              0\n",
       "499997  49.9998 -2.9536              0\n",
       "499998  49.9999 -2.7725              0\n",
       "499999  50.0000 -2.8171              0\n",
       "\n",
       "[500000 rows x 3 columns]"
      ]
     },
     "execution_count": 6,
     "metadata": {},
     "output_type": "execute_result"
    }
   ],
   "source": [
    "batch1 = train_df.loc[train_df.time <= 50]\n",
    "batch1"
   ]
  },
  {
   "cell_type": "code",
   "execution_count": 7,
   "metadata": {},
   "outputs": [
    {
     "data": {
      "image/png": "[encoded data removed]",
      "text/plain": [
       "<Figure size 432x288 with 1 Axes>"
      ]
     },
     "metadata": {
      "needs_background": "light"
     },
     "output_type": "display_data"
    }
   ],
   "source": [
    "plt.plot(batch1.time, batch1.signal)\n",
    "plt.plot(batch1.time, batch1.open_channels)\n",
    "plt.show()"
   ]
  },
  {
   "cell_type": "code",
   "execution_count": 8,
   "metadata": {},
   "outputs": [
    {
     "data": {
      "text/html": [
       "<div>\n",
       "<style scoped>\n",
       "    .dataframe tbody tr th:only-of-type {\n",
       "        vertical-align: middle;\n",
       "    }\n",
       "\n",
       "    .dataframe tbody tr th {\n",
       "        vertical-align: top;\n",
       "    }\n",
       "\n",
       "    .dataframe thead th {\n",
       "        text-align: right;\n",
       "    }\n",
       "</style>\n",
       "<table border=\"1\" class=\"dataframe\">\n",
       "  <thead>\n",
       "    <tr style=\"text-align: right;\">\n",
       "      <th></th>\n",
       "      <th>time</th>\n",
       "      <th>signal</th>\n",
       "      <th>open_channels</th>\n",
       "    </tr>\n",
       "  </thead>\n",
       "  <tbody>\n",
       "    <tr>\n",
       "      <th>500000</th>\n",
       "      <td>50.0001</td>\n",
       "      <td>-3.1094</td>\n",
       "      <td>0</td>\n",
       "    </tr>\n",
       "    <tr>\n",
       "      <th>500001</th>\n",
       "      <td>50.0002</td>\n",
       "      <td>-3.2726</td>\n",
       "      <td>0</td>\n",
       "    </tr>\n",
       "    <tr>\n",
       "      <th>500002</th>\n",
       "      <td>50.0003</td>\n",
       "      <td>-3.2302</td>\n",
       "      <td>0</td>\n",
       "    </tr>\n",
       "    <tr>\n",
       "      <th>500003</th>\n",
       "      <td>50.0004</td>\n",
       "      <td>-3.0486</td>\n",
       "      <td>0</td>\n",
       "    </tr>\n",
       "    <tr>\n",
       "      <th>500004</th>\n",
       "      <td>50.0005</td>\n",
       "      <td>-3.0789</td>\n",
       "      <td>0</td>\n",
       "    </tr>\n",
       "    <tr>\n",
       "      <th>...</th>\n",
       "      <td>...</td>\n",
       "      <td>...</td>\n",
       "      <td>...</td>\n",
       "    </tr>\n",
       "    <tr>\n",
       "      <th>999995</th>\n",
       "      <td>99.9996</td>\n",
       "      <td>-2.7376</td>\n",
       "      <td>0</td>\n",
       "    </tr>\n",
       "    <tr>\n",
       "      <th>999996</th>\n",
       "      <td>99.9997</td>\n",
       "      <td>-1.7650</td>\n",
       "      <td>1</td>\n",
       "    </tr>\n",
       "    <tr>\n",
       "      <th>999997</th>\n",
       "      <td>99.9998</td>\n",
       "      <td>-2.4239</td>\n",
       "      <td>0</td>\n",
       "    </tr>\n",
       "    <tr>\n",
       "      <th>999998</th>\n",
       "      <td>99.9999</td>\n",
       "      <td>-1.7650</td>\n",
       "      <td>1</td>\n",
       "    </tr>\n",
       "    <tr>\n",
       "      <th>999999</th>\n",
       "      <td>100.0000</td>\n",
       "      <td>-2.4239</td>\n",
       "      <td>0</td>\n",
       "    </tr>\n",
       "  </tbody>\n",
       "</table>\n",
       "<p>500000 rows × 3 columns</p>\n",
       "</div>"
      ],
      "text/plain": [
       "            time  signal  open_channels\n",
       "500000   50.0001 -3.1094              0\n",
       "500001   50.0002 -3.2726              0\n",
       "500002   50.0003 -3.2302              0\n",
       "500003   50.0004 -3.0486              0\n",
       "500004   50.0005 -3.0789              0\n",
       "...          ...     ...            ...\n",
       "999995   99.9996 -2.7376              0\n",
       "999996   99.9997 -1.7650              1\n",
       "999997   99.9998 -2.4239              0\n",
       "999998   99.9999 -1.7650              1\n",
       "999999  100.0000 -2.4239              0\n",
       "\n",
       "[500000 rows x 3 columns]"
      ]
     },
     "execution_count": 8,
     "metadata": {},
     "output_type": "execute_result"
    }
   ],
   "source": [
    "batch2 = train_df.loc[(train_df.time > 50) & (train_df.time <= 100)]\n",
    "batch2"
   ]
  },
  {
   "cell_type": "code",
   "execution_count": 9,
   "metadata": {},
   "outputs": [
    {
     "data": {
      "image/png": "[encoded data removed]",
      "text/plain": [
       "<Figure size 432x288 with 1 Axes>"
      ]
     },
     "metadata": {
      "needs_background": "light"
     },
     "output_type": "display_data"
    }
   ],
   "source": [
    "plt.plot(batch2.time, batch2.signal)\n",
    "plt.plot(batch2.time, batch2.open_channels)\n",
    "plt.show()"
   ]
  },
  {
   "cell_type": "code",
   "execution_count": 10,
   "metadata": {},
   "outputs": [
    {
     "data": {
      "text/html": [
       "<div>\n",
       "<style scoped>\n",
       "    .dataframe tbody tr th:only-of-type {\n",
       "        vertical-align: middle;\n",
       "    }\n",
       "\n",
       "    .dataframe tbody tr th {\n",
       "        vertical-align: top;\n",
       "    }\n",
       "\n",
       "    .dataframe thead th {\n",
       "        text-align: right;\n",
       "    }\n",
       "</style>\n",
       "<table border=\"1\" class=\"dataframe\">\n",
       "  <thead>\n",
       "    <tr style=\"text-align: right;\">\n",
       "      <th></th>\n",
       "      <th>time</th>\n",
       "      <th>signal</th>\n",
       "      <th>open_channels</th>\n",
       "    </tr>\n",
       "  </thead>\n",
       "  <tbody>\n",
       "    <tr>\n",
       "      <th>1000000</th>\n",
       "      <td>100.0001</td>\n",
       "      <td>-1.7194</td>\n",
       "      <td>1</td>\n",
       "    </tr>\n",
       "    <tr>\n",
       "      <th>1000001</th>\n",
       "      <td>100.0002</td>\n",
       "      <td>-1.3583</td>\n",
       "      <td>1</td>\n",
       "    </tr>\n",
       "    <tr>\n",
       "      <th>1000002</th>\n",
       "      <td>100.0003</td>\n",
       "      <td>-1.9403</td>\n",
       "      <td>1</td>\n",
       "    </tr>\n",
       "    <tr>\n",
       "      <th>1000003</th>\n",
       "      <td>100.0004</td>\n",
       "      <td>-1.0783</td>\n",
       "      <td>1</td>\n",
       "    </tr>\n",
       "    <tr>\n",
       "      <th>1000004</th>\n",
       "      <td>100.0005</td>\n",
       "      <td>-1.5079</td>\n",
       "      <td>1</td>\n",
       "    </tr>\n",
       "    <tr>\n",
       "      <th>...</th>\n",
       "      <td>...</td>\n",
       "      <td>...</td>\n",
       "      <td>...</td>\n",
       "    </tr>\n",
       "    <tr>\n",
       "      <th>1009995</th>\n",
       "      <td>100.9996</td>\n",
       "      <td>-2.8815</td>\n",
       "      <td>0</td>\n",
       "    </tr>\n",
       "    <tr>\n",
       "      <th>1009996</th>\n",
       "      <td>100.9997</td>\n",
       "      <td>-2.2198</td>\n",
       "      <td>0</td>\n",
       "    </tr>\n",
       "    <tr>\n",
       "      <th>1009997</th>\n",
       "      <td>100.9998</td>\n",
       "      <td>-2.9001</td>\n",
       "      <td>0</td>\n",
       "    </tr>\n",
       "    <tr>\n",
       "      <th>1009998</th>\n",
       "      <td>100.9999</td>\n",
       "      <td>-2.6306</td>\n",
       "      <td>0</td>\n",
       "    </tr>\n",
       "    <tr>\n",
       "      <th>1009999</th>\n",
       "      <td>101.0000</td>\n",
       "      <td>-1.2099</td>\n",
       "      <td>1</td>\n",
       "    </tr>\n",
       "  </tbody>\n",
       "</table>\n",
       "<p>10000 rows × 3 columns</p>\n",
       "</div>"
      ],
      "text/plain": [
       "             time  signal  open_channels\n",
       "1000000  100.0001 -1.7194              1\n",
       "1000001  100.0002 -1.3583              1\n",
       "1000002  100.0003 -1.9403              1\n",
       "1000003  100.0004 -1.0783              1\n",
       "1000004  100.0005 -1.5079              1\n",
       "...           ...     ...            ...\n",
       "1009995  100.9996 -2.8815              0\n",
       "1009996  100.9997 -2.2198              0\n",
       "1009997  100.9998 -2.9001              0\n",
       "1009998  100.9999 -2.6306              0\n",
       "1009999  101.0000 -1.2099              1\n",
       "\n",
       "[10000 rows x 3 columns]"
      ]
     },
     "execution_count": 10,
     "metadata": {},
     "output_type": "execute_result"
    }
   ],
   "source": [
    "batch3 = train_df.loc[(train_df.time > 100) & (train_df.time <= 101)]\n",
    "batch3"
   ]
  },
  {
   "cell_type": "code",
   "execution_count": 11,
   "metadata": {},
   "outputs": [
    {
     "data": {
      "image/png": "[encoded data removed]",
      "text/plain": [
       "<Figure size 432x288 with 1 Axes>"
      ]
     },
     "metadata": {
      "needs_background": "light"
     },
     "output_type": "display_data"
    }
   ],
   "source": [
    "plt.plot(batch3.time, batch3.signal)\n",
    "plt.plot(batch3.time, batch3.open_channels)\n",
    "plt.show()"
   ]
  },
  {
   "cell_type": "code",
   "execution_count": 12,
   "metadata": {},
   "outputs": [
    {
     "data": {
      "text/html": [
       "<div>\n",
       "<style scoped>\n",
       "    .dataframe tbody tr th:only-of-type {\n",
       "        vertical-align: middle;\n",
       "    }\n",
       "\n",
       "    .dataframe tbody tr th {\n",
       "        vertical-align: top;\n",
       "    }\n",
       "\n",
       "    .dataframe thead th {\n",
       "        text-align: right;\n",
       "    }\n",
       "</style>\n",
       "<table border=\"1\" class=\"dataframe\">\n",
       "  <thead>\n",
       "    <tr style=\"text-align: right;\">\n",
       "      <th></th>\n",
       "      <th>time</th>\n",
       "      <th>signal</th>\n",
       "      <th>open_channels</th>\n",
       "    </tr>\n",
       "  </thead>\n",
       "  <tbody>\n",
       "    <tr>\n",
       "      <th>3500000</th>\n",
       "      <td>350.0001</td>\n",
       "      <td>0.9279</td>\n",
       "      <td>3</td>\n",
       "    </tr>\n",
       "    <tr>\n",
       "      <th>3500001</th>\n",
       "      <td>350.0002</td>\n",
       "      <td>0.7001</td>\n",
       "      <td>3</td>\n",
       "    </tr>\n",
       "    <tr>\n",
       "      <th>3500002</th>\n",
       "      <td>350.0003</td>\n",
       "      <td>0.6268</td>\n",
       "      <td>3</td>\n",
       "    </tr>\n",
       "    <tr>\n",
       "      <th>3500003</th>\n",
       "      <td>350.0004</td>\n",
       "      <td>0.9317</td>\n",
       "      <td>3</td>\n",
       "    </tr>\n",
       "    <tr>\n",
       "      <th>3500004</th>\n",
       "      <td>350.0005</td>\n",
       "      <td>0.4457</td>\n",
       "      <td>3</td>\n",
       "    </tr>\n",
       "    <tr>\n",
       "      <th>...</th>\n",
       "      <td>...</td>\n",
       "      <td>...</td>\n",
       "      <td>...</td>\n",
       "    </tr>\n",
       "    <tr>\n",
       "      <th>3509995</th>\n",
       "      <td>350.9996</td>\n",
       "      <td>-0.9473</td>\n",
       "      <td>1</td>\n",
       "    </tr>\n",
       "    <tr>\n",
       "      <th>3509996</th>\n",
       "      <td>350.9997</td>\n",
       "      <td>-1.4684</td>\n",
       "      <td>1</td>\n",
       "    </tr>\n",
       "    <tr>\n",
       "      <th>3509997</th>\n",
       "      <td>350.9998</td>\n",
       "      <td>-0.9250</td>\n",
       "      <td>1</td>\n",
       "    </tr>\n",
       "    <tr>\n",
       "      <th>3509998</th>\n",
       "      <td>350.9999</td>\n",
       "      <td>-1.1868</td>\n",
       "      <td>1</td>\n",
       "    </tr>\n",
       "    <tr>\n",
       "      <th>3509999</th>\n",
       "      <td>351.0000</td>\n",
       "      <td>-1.4913</td>\n",
       "      <td>1</td>\n",
       "    </tr>\n",
       "  </tbody>\n",
       "</table>\n",
       "<p>10000 rows × 3 columns</p>\n",
       "</div>"
      ],
      "text/plain": [
       "             time  signal  open_channels\n",
       "3500000  350.0001  0.9279              3\n",
       "3500001  350.0002  0.7001              3\n",
       "3500002  350.0003  0.6268              3\n",
       "3500003  350.0004  0.9317              3\n",
       "3500004  350.0005  0.4457              3\n",
       "...           ...     ...            ...\n",
       "3509995  350.9996 -0.9473              1\n",
       "3509996  350.9997 -1.4684              1\n",
       "3509997  350.9998 -0.9250              1\n",
       "3509998  350.9999 -1.1868              1\n",
       "3509999  351.0000 -1.4913              1\n",
       "\n",
       "[10000 rows x 3 columns]"
      ]
     },
     "execution_count": 12,
     "metadata": {},
     "output_type": "execute_result"
    }
   ],
   "source": [
    "#random batch\n",
    "batch_random = train_df.loc[(train_df.time > 350) & (train_df.time <= 351)]\n",
    "batch_random"
   ]
  },
  {
   "cell_type": "code",
   "execution_count": 13,
   "metadata": {},
   "outputs": [
    {
     "data": {
      "image/png": "[encoded data removed]",
      "text/plain": [
       "<Figure size 432x288 with 1 Axes>"
      ]
     },
     "metadata": {
      "needs_background": "light"
     },
     "output_type": "display_data"
    }
   ],
   "source": [
    "plt.plot(batch_random.time, batch_random.signal)\n",
    "plt.plot(batch_random.time, batch_random.open_channels)\n",
    "plt.show()"
   ]
  },
  {
   "cell_type": "code",
   "execution_count": 14,
   "metadata": {},
   "outputs": [
    {
     "data": {
      "image/png": "[encoded data removed]",
      "text/plain": [
       "<Figure size 432x288 with 1 Axes>"
      ]
     },
     "metadata": {
      "needs_background": "light"
     },
     "output_type": "display_data"
    }
   ],
   "source": [
    "plt.plot(train_df.time, train_df.open_channels)\n",
    "plt.show()"
   ]
  },
  {
   "cell_type": "code",
   "execution_count": 15,
   "metadata": {},
   "outputs": [
    {
     "data": {
      "text/plain": [
       "0.031732"
      ]
     },
     "execution_count": 15,
     "metadata": {},
     "output_type": "execute_result"
    }
   ],
   "source": [
    "batch1_mean = batch1.open_channels.mean()\n",
    "batch1_mean"
   ]
  },
  {
   "cell_type": "code",
   "execution_count": 16,
   "metadata": {},
   "outputs": [
    {
     "data": {
      "text/plain": [
       "2.147846"
      ]
     },
     "execution_count": 16,
     "metadata": {},
     "output_type": "execute_result"
    }
   ],
   "source": [
    "batch4 = train_df.loc[(train_df.time > 150) & (train_df.time <= 200)]\n",
    "batch4_mean = batch4.open_channels.mean()\n",
    "batch4_mean"
   ]
  },
  {
   "cell_type": "code",
   "execution_count": 17,
   "metadata": {},
   "outputs": [
    {
     "name": "stdout",
     "output_type": "stream",
     "text": [
      "0.031732 0.038676 0.747992 2.147846 7.147186 3.576684 0.75361 2.135186 3.570304 7.111216\n"
     ]
    }
   ],
   "source": [
    "batch_1 = train_df.iloc[:500000, :]\n",
    "batch_1_mean = batch_1.open_channels.mean()\n",
    "batch_2 = train_df.iloc[500000:1000000, :]\n",
    "batch_2_mean = batch_2.open_channels.mean()\n",
    "batch_3 = train_df.iloc[1000000:1500000, :]\n",
    "batch_3_mean = batch_3.open_channels.mean()\n",
    "batch_4 = train_df.iloc[1500000:2000000, :]\n",
    "batch_4_mean = batch_4.open_channels.mean()\n",
    "batch_5 = train_df.iloc[2000000:2500000, :]\n",
    "batch_5_mean = batch_5.open_channels.mean()\n",
    "batch_6 = train_df.iloc[2500000:3000000, :]\n",
    "batch_6_mean = batch_6.open_channels.mean()\n",
    "batch_7 = train_df.iloc[3000000:3500000, :]\n",
    "batch_7_mean = batch_7.open_channels.mean()\n",
    "batch_8 = train_df.iloc[3500000:4000000, :]\n",
    "batch_8_mean = batch_8.open_channels.mean()\n",
    "batch_9 = train_df.iloc[4000000:4500000, :]\n",
    "batch_9_mean = batch_9.open_channels.mean()\n",
    "batch_10 = train_df.iloc[4500000:5000000, :]\n",
    "batch_10_mean = batch_10.open_channels.mean()\n",
    "print(batch_1_mean, batch_2_mean, batch_3_mean, batch_4_mean, batch_5_mean, batch_6_mean, batch_7_mean, batch_8_mean, batch_9_mean, batch_10_mean)"
   ]
  },
  {
   "cell_type": "code",
   "execution_count": 18,
   "metadata": {},
   "outputs": [
    {
     "data": {
      "text/plain": [
       "0         0.031732\n",
       "1         0.031732\n",
       "2         0.031732\n",
       "3         0.031732\n",
       "4         0.031732\n",
       "            ...   \n",
       "499995    0.031732\n",
       "499996    0.031732\n",
       "499997    0.031732\n",
       "499998    0.031732\n",
       "499999    0.031732\n",
       "Name: open_channels, Length: 500000, dtype: float64"
      ]
     },
     "execution_count": 18,
     "metadata": {},
     "output_type": "execute_result"
    }
   ],
   "source": [
    "ch_batch_1 = batch_1.open_channels.map(lambda x: batch_1_mean)\n",
    "ch_batch_2 = batch_2.open_channels.map(lambda x: batch_2_mean)\n",
    "ch_batch_3 = batch_3.open_channels.map(lambda x: batch_3_mean)\n",
    "ch_batch_4 = batch_4.open_channels.map(lambda x: batch_4_mean)\n",
    "ch_batch_5 = batch_5.open_channels.map(lambda x: batch_5_mean)\n",
    "ch_batch_6 = batch_6.open_channels.map(lambda x: batch_6_mean)\n",
    "ch_batch_7 = batch_7.open_channels.map(lambda x: batch_7_mean)\n",
    "ch_batch_8 = batch_8.open_channels.map(lambda x: batch_8_mean)\n",
    "ch_batch_9 = batch_9.open_channels.map(lambda x: batch_9_mean)\n",
    "ch_batch_10 = batch_10.open_channels.map(lambda x: batch_10_mean)\n",
    "ch_batch_1"
   ]
  },
  {
   "cell_type": "code",
   "execution_count": 19,
   "metadata": {
    "scrolled": true
   },
   "outputs": [
    {
     "data": {
      "text/plain": [
       "0          0.031732\n",
       "1          0.031732\n",
       "2          0.031732\n",
       "3          0.031732\n",
       "4          0.031732\n",
       "             ...   \n",
       "4999995    7.111216\n",
       "4999996    7.111216\n",
       "4999997    7.111216\n",
       "4999998    7.111216\n",
       "4999999    7.111216\n",
       "Name: open_channels, Length: 5000000, dtype: float64"
      ]
     },
     "execution_count": 19,
     "metadata": {},
     "output_type": "execute_result"
    }
   ],
   "source": [
    "merge = [ch_batch_1, ch_batch_2, ch_batch_3, ch_batch_4, ch_batch_5, ch_batch_6, ch_batch_7, ch_batch_8, ch_batch_9, ch_batch_10]\n",
    "mean_train_channels = pd.concat(merge)\n",
    "mean_train_channels"
   ]
  },
  {
   "cell_type": "code",
   "execution_count": 20,
   "metadata": {},
   "outputs": [
    {
     "data": {
      "text/html": [
       "<div>\n",
       "<style scoped>\n",
       "    .dataframe tbody tr th:only-of-type {\n",
       "        vertical-align: middle;\n",
       "    }\n",
       "\n",
       "    .dataframe tbody tr th {\n",
       "        vertical-align: top;\n",
       "    }\n",
       "\n",
       "    .dataframe thead th {\n",
       "        text-align: right;\n",
       "    }\n",
       "</style>\n",
       "<table border=\"1\" class=\"dataframe\">\n",
       "  <thead>\n",
       "    <tr style=\"text-align: right;\">\n",
       "      <th></th>\n",
       "      <th>time</th>\n",
       "      <th>signal</th>\n",
       "      <th>open_channels</th>\n",
       "    </tr>\n",
       "  </thead>\n",
       "  <tbody>\n",
       "    <tr>\n",
       "      <th>0</th>\n",
       "      <td>0.0001</td>\n",
       "      <td>-2.7600</td>\n",
       "      <td>0</td>\n",
       "    </tr>\n",
       "    <tr>\n",
       "      <th>1</th>\n",
       "      <td>0.0002</td>\n",
       "      <td>-2.8557</td>\n",
       "      <td>0</td>\n",
       "    </tr>\n",
       "    <tr>\n",
       "      <th>2</th>\n",
       "      <td>0.0003</td>\n",
       "      <td>-2.4074</td>\n",
       "      <td>0</td>\n",
       "    </tr>\n",
       "    <tr>\n",
       "      <th>3</th>\n",
       "      <td>0.0004</td>\n",
       "      <td>-3.1404</td>\n",
       "      <td>0</td>\n",
       "    </tr>\n",
       "    <tr>\n",
       "      <th>4</th>\n",
       "      <td>0.0005</td>\n",
       "      <td>-3.1525</td>\n",
       "      <td>0</td>\n",
       "    </tr>\n",
       "    <tr>\n",
       "      <th>...</th>\n",
       "      <td>...</td>\n",
       "      <td>...</td>\n",
       "      <td>...</td>\n",
       "    </tr>\n",
       "    <tr>\n",
       "      <th>4999995</th>\n",
       "      <td>499.9996</td>\n",
       "      <td>2.9194</td>\n",
       "      <td>7</td>\n",
       "    </tr>\n",
       "    <tr>\n",
       "      <th>4999996</th>\n",
       "      <td>499.9997</td>\n",
       "      <td>2.6980</td>\n",
       "      <td>7</td>\n",
       "    </tr>\n",
       "    <tr>\n",
       "      <th>4999997</th>\n",
       "      <td>499.9998</td>\n",
       "      <td>4.5164</td>\n",
       "      <td>8</td>\n",
       "    </tr>\n",
       "    <tr>\n",
       "      <th>4999998</th>\n",
       "      <td>499.9999</td>\n",
       "      <td>5.6397</td>\n",
       "      <td>9</td>\n",
       "    </tr>\n",
       "    <tr>\n",
       "      <th>4999999</th>\n",
       "      <td>500.0000</td>\n",
       "      <td>5.3792</td>\n",
       "      <td>9</td>\n",
       "    </tr>\n",
       "  </tbody>\n",
       "</table>\n",
       "<p>5000000 rows × 3 columns</p>\n",
       "</div>"
      ],
      "text/plain": [
       "             time  signal  open_channels\n",
       "0          0.0001 -2.7600              0\n",
       "1          0.0002 -2.8557              0\n",
       "2          0.0003 -2.4074              0\n",
       "3          0.0004 -3.1404              0\n",
       "4          0.0005 -3.1525              0\n",
       "...           ...     ...            ...\n",
       "4999995  499.9996  2.9194              7\n",
       "4999996  499.9997  2.6980              7\n",
       "4999997  499.9998  4.5164              8\n",
       "4999998  499.9999  5.6397              9\n",
       "4999999  500.0000  5.3792              9\n",
       "\n",
       "[5000000 rows x 3 columns]"
      ]
     },
     "execution_count": 20,
     "metadata": {},
     "output_type": "execute_result"
    }
   ],
   "source": [
    "merge_batches = [batch_1, batch_2, batch_3, batch_4, batch_5, batch_6, batch_7, batch_8, batch_9, batch_10]\n",
    "b_train = pd.concat(merge_batches)\n",
    "b_train"
   ]
  },
  {
   "cell_type": "code",
   "execution_count": 21,
   "metadata": {},
   "outputs": [
    {
     "data": {
      "text/html": [
       "<div>\n",
       "<style scoped>\n",
       "    .dataframe tbody tr th:only-of-type {\n",
       "        vertical-align: middle;\n",
       "    }\n",
       "\n",
       "    .dataframe tbody tr th {\n",
       "        vertical-align: top;\n",
       "    }\n",
       "\n",
       "    .dataframe thead th {\n",
       "        text-align: right;\n",
       "    }\n",
       "</style>\n",
       "<table border=\"1\" class=\"dataframe\">\n",
       "  <thead>\n",
       "    <tr style=\"text-align: right;\">\n",
       "      <th></th>\n",
       "      <th>time</th>\n",
       "      <th>signal</th>\n",
       "      <th>open_channels</th>\n",
       "    </tr>\n",
       "  </thead>\n",
       "  <tbody>\n",
       "    <tr>\n",
       "      <th>0</th>\n",
       "      <td>0.0001</td>\n",
       "      <td>-2.7600</td>\n",
       "      <td>0.031732</td>\n",
       "    </tr>\n",
       "    <tr>\n",
       "      <th>1</th>\n",
       "      <td>0.0002</td>\n",
       "      <td>-2.8557</td>\n",
       "      <td>0.031732</td>\n",
       "    </tr>\n",
       "    <tr>\n",
       "      <th>2</th>\n",
       "      <td>0.0003</td>\n",
       "      <td>-2.4074</td>\n",
       "      <td>0.031732</td>\n",
       "    </tr>\n",
       "    <tr>\n",
       "      <th>3</th>\n",
       "      <td>0.0004</td>\n",
       "      <td>-3.1404</td>\n",
       "      <td>0.031732</td>\n",
       "    </tr>\n",
       "    <tr>\n",
       "      <th>4</th>\n",
       "      <td>0.0005</td>\n",
       "      <td>-3.1525</td>\n",
       "      <td>0.031732</td>\n",
       "    </tr>\n",
       "    <tr>\n",
       "      <th>...</th>\n",
       "      <td>...</td>\n",
       "      <td>...</td>\n",
       "      <td>...</td>\n",
       "    </tr>\n",
       "    <tr>\n",
       "      <th>4999995</th>\n",
       "      <td>499.9996</td>\n",
       "      <td>2.9194</td>\n",
       "      <td>7.111216</td>\n",
       "    </tr>\n",
       "    <tr>\n",
       "      <th>4999996</th>\n",
       "      <td>499.9997</td>\n",
       "      <td>2.6980</td>\n",
       "      <td>7.111216</td>\n",
       "    </tr>\n",
       "    <tr>\n",
       "      <th>4999997</th>\n",
       "      <td>499.9998</td>\n",
       "      <td>4.5164</td>\n",
       "      <td>7.111216</td>\n",
       "    </tr>\n",
       "    <tr>\n",
       "      <th>4999998</th>\n",
       "      <td>499.9999</td>\n",
       "      <td>5.6397</td>\n",
       "      <td>7.111216</td>\n",
       "    </tr>\n",
       "    <tr>\n",
       "      <th>4999999</th>\n",
       "      <td>500.0000</td>\n",
       "      <td>5.3792</td>\n",
       "      <td>7.111216</td>\n",
       "    </tr>\n",
       "  </tbody>\n",
       "</table>\n",
       "<p>5000000 rows × 3 columns</p>\n",
       "</div>"
      ],
      "text/plain": [
       "             time  signal  open_channels\n",
       "0          0.0001 -2.7600       0.031732\n",
       "1          0.0002 -2.8557       0.031732\n",
       "2          0.0003 -2.4074       0.031732\n",
       "3          0.0004 -3.1404       0.031732\n",
       "4          0.0005 -3.1525       0.031732\n",
       "...           ...     ...            ...\n",
       "4999995  499.9996  2.9194       7.111216\n",
       "4999996  499.9997  2.6980       7.111216\n",
       "4999997  499.9998  4.5164       7.111216\n",
       "4999998  499.9999  5.6397       7.111216\n",
       "4999999  500.0000  5.3792       7.111216\n",
       "\n",
       "[5000000 rows x 3 columns]"
      ]
     },
     "execution_count": 21,
     "metadata": {},
     "output_type": "execute_result"
    }
   ],
   "source": [
    "b_train = b_train.assign(open_channels = mean_train_channels)\n",
    "b_train"
   ]
  },
  {
   "cell_type": "code",
   "execution_count": 22,
   "metadata": {},
   "outputs": [
    {
     "data": {
      "image/png": "[encoded data removed]",
      "text/plain": [
       "<Figure size 432x288 with 1 Axes>"
      ]
     },
     "metadata": {
      "needs_background": "light"
     },
     "output_type": "display_data"
    }
   ],
   "source": [
    "plt.plot(b_train.time, b_train.open_channels)\n",
    "plt.show()"
   ]
  },
  {
   "cell_type": "code",
   "execution_count": 23,
   "metadata": {},
   "outputs": [
    {
     "data": {
      "image/png": "[encoded data removed]",
      "text/plain": [
       "<Figure size 432x288 with 1 Axes>"
      ]
     },
     "metadata": {
      "needs_background": "light"
     },
     "output_type": "display_data"
    }
   ],
   "source": [
    "plt.plot(b_train.time, b_train.open_channels)\n",
    "plt.plot(b_train.time, b_train.signal)\n",
    "plt.show()"
   ]
  },
  {
   "cell_type": "code",
   "execution_count": 24,
   "metadata": {},
   "outputs": [
    {
     "name": "stdout",
     "output_type": "stream",
     "text": [
      "-2.6814063591999635 -2.3791491212000473 -1.8131248770000243 -0.09298384680000123 3.3578080267999773 1.6808430502000093 1.3791705661999638 3.075237396400067 4.84206232920008 6.494005973800193\n"
     ]
    }
   ],
   "source": [
    "batch_1_signal = b_train.iloc[:500000, :]\n",
    "batch_1_signal_mean = batch_1.signal.mean()\n",
    "batch_2_signal = b_train.iloc[500000:1000000, :]\n",
    "batch_2_signal_mean = batch_2.signal.mean()\n",
    "batch_3_signal = b_train.iloc[1000000:1500000, :]\n",
    "batch_3_signal_mean = batch_3.signal.mean()\n",
    "batch_4_signal = b_train.iloc[1500000:2000000, :]\n",
    "batch_4_signal_mean = batch_4.signal.mean()\n",
    "batch_5_signal = b_train.iloc[2000000:2500000, :]\n",
    "batch_5_signal_mean = batch_5.signal.mean()\n",
    "batch_6_signal = b_train.iloc[2500000:3000000, :]\n",
    "batch_6_signal_mean = batch_6.signal.mean()\n",
    "batch_7_signal = b_train.iloc[3000000:3500000, :]\n",
    "batch_7_signal_mean = batch_7.signal.mean()\n",
    "batch_8_signal = b_train.iloc[3500000:4000000, :]\n",
    "batch_8_signal_mean = batch_8.signal.mean()\n",
    "batch_9_signal = b_train.iloc[4000000:4500000, :]\n",
    "batch_9_signal_mean = batch_9.signal.mean()\n",
    "batch_10_signal = b_train.iloc[4500000:5000000, :]\n",
    "batch_10_signal_mean = batch_10.signal.mean()\n",
    "print(batch_1_signal_mean, batch_2_signal_mean, batch_3_signal_mean, batch_4_signal_mean, batch_5_signal_mean, batch_6_signal_mean, batch_7_signal_mean, batch_8_signal_mean, batch_9_signal_mean, batch_10_signal_mean)"
   ]
  },
  {
   "cell_type": "code",
   "execution_count": 25,
   "metadata": {},
   "outputs": [
    {
     "data": {
      "text/plain": [
       "0        -2.681406\n",
       "1        -2.681406\n",
       "2        -2.681406\n",
       "3        -2.681406\n",
       "4        -2.681406\n",
       "            ...   \n",
       "499995   -2.681406\n",
       "499996   -2.681406\n",
       "499997   -2.681406\n",
       "499998   -2.681406\n",
       "499999   -2.681406\n",
       "Name: signal, Length: 500000, dtype: float64"
      ]
     },
     "execution_count": 25,
     "metadata": {},
     "output_type": "execute_result"
    }
   ],
   "source": [
    "s_batch_1 = batch_1_signal.signal.map(lambda x: batch_1_signal_mean)\n",
    "s_batch_2 = batch_2_signal.signal.map(lambda x: batch_2_signal_mean)\n",
    "s_batch_3 = batch_3_signal.signal.map(lambda x: batch_3_signal_mean)\n",
    "s_batch_4 = batch_4_signal.signal.map(lambda x: batch_4_signal_mean)\n",
    "s_batch_5 = batch_5_signal.signal.map(lambda x: batch_5_signal_mean)\n",
    "s_batch_6 = batch_6_signal.signal.map(lambda x: batch_6_signal_mean)\n",
    "s_batch_7 = batch_7_signal.signal.map(lambda x: batch_7_signal_mean)\n",
    "s_batch_8 = batch_8_signal.signal.map(lambda x: batch_8_signal_mean)\n",
    "s_batch_9 = batch_9_signal.signal.map(lambda x: batch_9_signal_mean)\n",
    "s_batch_10 = batch_10_signal.signal.map(lambda x: batch_10_signal_mean)\n",
    "s_batch_1"
   ]
  },
  {
   "cell_type": "code",
   "execution_count": 26,
   "metadata": {},
   "outputs": [
    {
     "data": {
      "text/plain": [
       "0         -2.681406\n",
       "1         -2.681406\n",
       "2         -2.681406\n",
       "3         -2.681406\n",
       "4         -2.681406\n",
       "             ...   \n",
       "4999995    6.494006\n",
       "4999996    6.494006\n",
       "4999997    6.494006\n",
       "4999998    6.494006\n",
       "4999999    6.494006\n",
       "Name: signal, Length: 5000000, dtype: float64"
      ]
     },
     "execution_count": 26,
     "metadata": {},
     "output_type": "execute_result"
    }
   ],
   "source": [
    "merge_s = [s_batch_1, s_batch_2, s_batch_3, s_batch_4, s_batch_5, s_batch_6, s_batch_7, s_batch_8, s_batch_9, s_batch_10]\n",
    "mean_train_signal = pd.concat(merge_s)\n",
    "mean_train_signal"
   ]
  },
  {
   "cell_type": "code",
   "execution_count": 27,
   "metadata": {},
   "outputs": [
    {
     "data": {
      "text/html": [
       "<div>\n",
       "<style scoped>\n",
       "    .dataframe tbody tr th:only-of-type {\n",
       "        vertical-align: middle;\n",
       "    }\n",
       "\n",
       "    .dataframe tbody tr th {\n",
       "        vertical-align: top;\n",
       "    }\n",
       "\n",
       "    .dataframe thead th {\n",
       "        text-align: right;\n",
       "    }\n",
       "</style>\n",
       "<table border=\"1\" class=\"dataframe\">\n",
       "  <thead>\n",
       "    <tr style=\"text-align: right;\">\n",
       "      <th></th>\n",
       "      <th>time</th>\n",
       "      <th>signal</th>\n",
       "      <th>open_channels</th>\n",
       "    </tr>\n",
       "  </thead>\n",
       "  <tbody>\n",
       "    <tr>\n",
       "      <th>0</th>\n",
       "      <td>0.0001</td>\n",
       "      <td>-2.7600</td>\n",
       "      <td>0.031732</td>\n",
       "    </tr>\n",
       "    <tr>\n",
       "      <th>1</th>\n",
       "      <td>0.0002</td>\n",
       "      <td>-2.8557</td>\n",
       "      <td>0.031732</td>\n",
       "    </tr>\n",
       "    <tr>\n",
       "      <th>2</th>\n",
       "      <td>0.0003</td>\n",
       "      <td>-2.4074</td>\n",
       "      <td>0.031732</td>\n",
       "    </tr>\n",
       "    <tr>\n",
       "      <th>3</th>\n",
       "      <td>0.0004</td>\n",
       "      <td>-3.1404</td>\n",
       "      <td>0.031732</td>\n",
       "    </tr>\n",
       "    <tr>\n",
       "      <th>4</th>\n",
       "      <td>0.0005</td>\n",
       "      <td>-3.1525</td>\n",
       "      <td>0.031732</td>\n",
       "    </tr>\n",
       "    <tr>\n",
       "      <th>...</th>\n",
       "      <td>...</td>\n",
       "      <td>...</td>\n",
       "      <td>...</td>\n",
       "    </tr>\n",
       "    <tr>\n",
       "      <th>4999995</th>\n",
       "      <td>499.9996</td>\n",
       "      <td>2.9194</td>\n",
       "      <td>7.111216</td>\n",
       "    </tr>\n",
       "    <tr>\n",
       "      <th>4999996</th>\n",
       "      <td>499.9997</td>\n",
       "      <td>2.6980</td>\n",
       "      <td>7.111216</td>\n",
       "    </tr>\n",
       "    <tr>\n",
       "      <th>4999997</th>\n",
       "      <td>499.9998</td>\n",
       "      <td>4.5164</td>\n",
       "      <td>7.111216</td>\n",
       "    </tr>\n",
       "    <tr>\n",
       "      <th>4999998</th>\n",
       "      <td>499.9999</td>\n",
       "      <td>5.6397</td>\n",
       "      <td>7.111216</td>\n",
       "    </tr>\n",
       "    <tr>\n",
       "      <th>4999999</th>\n",
       "      <td>500.0000</td>\n",
       "      <td>5.3792</td>\n",
       "      <td>7.111216</td>\n",
       "    </tr>\n",
       "  </tbody>\n",
       "</table>\n",
       "<p>5000000 rows × 3 columns</p>\n",
       "</div>"
      ],
      "text/plain": [
       "             time  signal  open_channels\n",
       "0          0.0001 -2.7600       0.031732\n",
       "1          0.0002 -2.8557       0.031732\n",
       "2          0.0003 -2.4074       0.031732\n",
       "3          0.0004 -3.1404       0.031732\n",
       "4          0.0005 -3.1525       0.031732\n",
       "...           ...     ...            ...\n",
       "4999995  499.9996  2.9194       7.111216\n",
       "4999996  499.9997  2.6980       7.111216\n",
       "4999997  499.9998  4.5164       7.111216\n",
       "4999998  499.9999  5.6397       7.111216\n",
       "4999999  500.0000  5.3792       7.111216\n",
       "\n",
       "[5000000 rows x 3 columns]"
      ]
     },
     "execution_count": 27,
     "metadata": {},
     "output_type": "execute_result"
    }
   ],
   "source": [
    "merge_s_batches = [batch_1_signal, batch_2_signal, batch_3_signal, batch_4_signal, batch_5_signal, batch_6_signal, batch_7_signal, batch_8_signal, batch_9_signal, batch_10_signal]\n",
    "b_train_signal = pd.concat(merge_s_batches)\n",
    "b_train_signal"
   ]
  },
  {
   "cell_type": "code",
   "execution_count": 28,
   "metadata": {},
   "outputs": [
    {
     "data": {
      "text/html": [
       "<div>\n",
       "<style scoped>\n",
       "    .dataframe tbody tr th:only-of-type {\n",
       "        vertical-align: middle;\n",
       "    }\n",
       "\n",
       "    .dataframe tbody tr th {\n",
       "        vertical-align: top;\n",
       "    }\n",
       "\n",
       "    .dataframe thead th {\n",
       "        text-align: right;\n",
       "    }\n",
       "</style>\n",
       "<table border=\"1\" class=\"dataframe\">\n",
       "  <thead>\n",
       "    <tr style=\"text-align: right;\">\n",
       "      <th></th>\n",
       "      <th>time</th>\n",
       "      <th>signal</th>\n",
       "      <th>open_channels</th>\n",
       "    </tr>\n",
       "  </thead>\n",
       "  <tbody>\n",
       "    <tr>\n",
       "      <th>0</th>\n",
       "      <td>0.0001</td>\n",
       "      <td>-2.681406</td>\n",
       "      <td>0.031732</td>\n",
       "    </tr>\n",
       "    <tr>\n",
       "      <th>1</th>\n",
       "      <td>0.0002</td>\n",
       "      <td>-2.681406</td>\n",
       "      <td>0.031732</td>\n",
       "    </tr>\n",
       "    <tr>\n",
       "      <th>2</th>\n",
       "      <td>0.0003</td>\n",
       "      <td>-2.681406</td>\n",
       "      <td>0.031732</td>\n",
       "    </tr>\n",
       "    <tr>\n",
       "      <th>3</th>\n",
       "      <td>0.0004</td>\n",
       "      <td>-2.681406</td>\n",
       "      <td>0.031732</td>\n",
       "    </tr>\n",
       "    <tr>\n",
       "      <th>4</th>\n",
       "      <td>0.0005</td>\n",
       "      <td>-2.681406</td>\n",
       "      <td>0.031732</td>\n",
       "    </tr>\n",
       "    <tr>\n",
       "      <th>...</th>\n",
       "      <td>...</td>\n",
       "      <td>...</td>\n",
       "      <td>...</td>\n",
       "    </tr>\n",
       "    <tr>\n",
       "      <th>4999995</th>\n",
       "      <td>499.9996</td>\n",
       "      <td>6.494006</td>\n",
       "      <td>7.111216</td>\n",
       "    </tr>\n",
       "    <tr>\n",
       "      <th>4999996</th>\n",
       "      <td>499.9997</td>\n",
       "      <td>6.494006</td>\n",
       "      <td>7.111216</td>\n",
       "    </tr>\n",
       "    <tr>\n",
       "      <th>4999997</th>\n",
       "      <td>499.9998</td>\n",
       "      <td>6.494006</td>\n",
       "      <td>7.111216</td>\n",
       "    </tr>\n",
       "    <tr>\n",
       "      <th>4999998</th>\n",
       "      <td>499.9999</td>\n",
       "      <td>6.494006</td>\n",
       "      <td>7.111216</td>\n",
       "    </tr>\n",
       "    <tr>\n",
       "      <th>4999999</th>\n",
       "      <td>500.0000</td>\n",
       "      <td>6.494006</td>\n",
       "      <td>7.111216</td>\n",
       "    </tr>\n",
       "  </tbody>\n",
       "</table>\n",
       "<p>5000000 rows × 3 columns</p>\n",
       "</div>"
      ],
      "text/plain": [
       "             time    signal  open_channels\n",
       "0          0.0001 -2.681406       0.031732\n",
       "1          0.0002 -2.681406       0.031732\n",
       "2          0.0003 -2.681406       0.031732\n",
       "3          0.0004 -2.681406       0.031732\n",
       "4          0.0005 -2.681406       0.031732\n",
       "...           ...       ...            ...\n",
       "4999995  499.9996  6.494006       7.111216\n",
       "4999996  499.9997  6.494006       7.111216\n",
       "4999997  499.9998  6.494006       7.111216\n",
       "4999998  499.9999  6.494006       7.111216\n",
       "4999999  500.0000  6.494006       7.111216\n",
       "\n",
       "[5000000 rows x 3 columns]"
      ]
     },
     "execution_count": 28,
     "metadata": {},
     "output_type": "execute_result"
    }
   ],
   "source": [
    "b_train_signal = b_train_signal.assign(signal = mean_train_signal)\n",
    "b_train_signal"
   ]
  },
  {
   "cell_type": "code",
   "execution_count": 29,
   "metadata": {},
   "outputs": [
    {
     "name": "stderr",
     "output_type": "stream",
     "text": [
      "C:\\Users\\saina\\anaconda3\\lib\\site-packages\\IPython\\core\\pylabtools.py:132: UserWarning: Creating legend with loc=\"best\" can be slow with large amounts of data.\n",
      "  fig.canvas.print_figure(bytes_io, **kw)\n"
     ]
    },
    {
     "data": {
      "image/png": "[encoded data removed]",
      "text/plain": [
       "<Figure size 432x288 with 1 Axes>"
      ]
     },
     "metadata": {
      "needs_background": "light"
     },
     "output_type": "display_data"
    }
   ],
   "source": [
    "b_train_signal.open_channels = b_train_signal.open_channels.astype(int)\n",
    "plt.plot(b_train_signal.time, b_train_signal.signal)\n",
    "plt.plot(b_train_signal.time, b_train_signal.open_channels)\n",
    "plt.legend(['signal', 'channels'])\n",
    "plt.show()"
   ]
  },
  {
   "cell_type": "code",
   "execution_count": 30,
   "metadata": {},
   "outputs": [
    {
     "data": {
      "text/html": [
       "<div>\n",
       "<style scoped>\n",
       "    .dataframe tbody tr th:only-of-type {\n",
       "        vertical-align: middle;\n",
       "    }\n",
       "\n",
       "    .dataframe tbody tr th {\n",
       "        vertical-align: top;\n",
       "    }\n",
       "\n",
       "    .dataframe thead th {\n",
       "        text-align: right;\n",
       "    }\n",
       "</style>\n",
       "<table border=\"1\" class=\"dataframe\">\n",
       "  <thead>\n",
       "    <tr style=\"text-align: right;\">\n",
       "      <th></th>\n",
       "      <th>time</th>\n",
       "      <th>signal</th>\n",
       "    </tr>\n",
       "  </thead>\n",
       "  <tbody>\n",
       "    <tr>\n",
       "      <th>0</th>\n",
       "      <td>500.0001</td>\n",
       "      <td>-2.6498</td>\n",
       "    </tr>\n",
       "    <tr>\n",
       "      <th>1</th>\n",
       "      <td>500.0002</td>\n",
       "      <td>-2.8494</td>\n",
       "    </tr>\n",
       "    <tr>\n",
       "      <th>2</th>\n",
       "      <td>500.0003</td>\n",
       "      <td>-2.8600</td>\n",
       "    </tr>\n",
       "    <tr>\n",
       "      <th>3</th>\n",
       "      <td>500.0004</td>\n",
       "      <td>-2.4350</td>\n",
       "    </tr>\n",
       "    <tr>\n",
       "      <th>4</th>\n",
       "      <td>500.0005</td>\n",
       "      <td>-2.6155</td>\n",
       "    </tr>\n",
       "  </tbody>\n",
       "</table>\n",
       "</div>"
      ],
      "text/plain": [
       "       time  signal\n",
       "0  500.0001 -2.6498\n",
       "1  500.0002 -2.8494\n",
       "2  500.0003 -2.8600\n",
       "3  500.0004 -2.4350\n",
       "4  500.0005 -2.6155"
      ]
     },
     "execution_count": 30,
     "metadata": {},
     "output_type": "execute_result"
    }
   ],
   "source": [
    "test_df.head(5)"
   ]
  },
  {
   "cell_type": "code",
   "execution_count": 31,
   "metadata": {},
   "outputs": [
    {
     "data": {
      "text/plain": [
       "1.3862463138144787"
      ]
     },
     "execution_count": 31,
     "metadata": {},
     "output_type": "execute_result"
    }
   ],
   "source": [
    "signal_mean = b_train_signal.signal.mean()\n",
    "signal_mean"
   ]
  },
  {
   "cell_type": "code",
   "execution_count": 32,
   "metadata": {},
   "outputs": [
    {
     "data": {
      "text/plain": [
       "2.4"
      ]
     },
     "execution_count": 32,
     "metadata": {},
     "output_type": "execute_result"
    }
   ],
   "source": [
    "channel_mean = b_train_signal.open_channels.mean()\n",
    "channel_mean"
   ]
  },
  {
   "cell_type": "code",
   "execution_count": 33,
   "metadata": {},
   "outputs": [
    {
     "data": {
      "text/plain": [
       "SpearmanrResult(correlation=0.8713955149876949, pvalue=0.0)"
      ]
     },
     "execution_count": 33,
     "metadata": {},
     "output_type": "execute_result"
    }
   ],
   "source": [
    "scipy.stats.spearmanr(b_train_signal.signal, b_train_signal.open_channels)"
   ]
  },
  {
   "cell_type": "code",
   "execution_count": 34,
   "metadata": {},
   "outputs": [
    {
     "data": {
      "text/plain": [
       "SpearmanrResult(correlation=0.8382328013313736, pvalue=0.0)"
      ]
     },
     "execution_count": 34,
     "metadata": {},
     "output_type": "execute_result"
    }
   ],
   "source": [
    "scipy.stats.spearmanr(train_df.signal, train_df.open_channels)"
   ]
  },
  {
   "cell_type": "code",
   "execution_count": 35,
   "metadata": {},
   "outputs": [
    {
     "data": {
      "text/plain": [
       "(0.8009297101741648, 0.0)"
      ]
     },
     "execution_count": 35,
     "metadata": {},
     "output_type": "execute_result"
    }
   ],
   "source": [
    "scipy.stats.pearsonr(b_train_signal.signal, b_train_signal.open_channels)"
   ]
  },
  {
   "cell_type": "code",
   "execution_count": 36,
   "metadata": {},
   "outputs": [
    {
     "data": {
      "text/plain": [
       "(0.8016701496641951, 0.0)"
      ]
     },
     "execution_count": 36,
     "metadata": {},
     "output_type": "execute_result"
    }
   ],
   "source": [
    "scipy.stats.pearsonr(train_df.signal, train_df.open_channels)"
   ]
  },
  {
   "cell_type": "code",
   "execution_count": 37,
   "metadata": {},
   "outputs": [
    {
     "data": {
      "text/plain": [
       "array([ 2.29734719,  6.67355634,  6.46056989, ...,  4.24718041,\n",
       "       -0.14543289,  2.65962448])"
      ]
     },
     "execution_count": 37,
     "metadata": {},
     "output_type": "execute_result"
    }
   ],
   "source": [
    "from sklearn.linear_model import LinearRegression\n",
    "from sklearn.model_selection import train_test_split\n",
    "y = b_train_signal.open_channels\n",
    "features = ['time', 'signal']\n",
    "X = b_train_signal[features]\n",
    "train_X, val_X, train_y, val_y = train_test_split(X,y, random_state=0)\n",
    "l_model = LinearRegression()\n",
    "l_model.fit(train_X,train_y)\n",
    "preds_l = l_model.predict(val_X)\n",
    "preds_l"
   ]
  },
  {
   "cell_type": "code",
   "execution_count": 44,
   "metadata": {},
   "outputs": [
    {
     "data": {
      "text/html": [
       "<div>\n",
       "<style scoped>\n",
       "    .dataframe tbody tr th:only-of-type {\n",
       "        vertical-align: middle;\n",
       "    }\n",
       "\n",
       "    .dataframe tbody tr th {\n",
       "        vertical-align: top;\n",
       "    }\n",
       "\n",
       "    .dataframe thead th {\n",
       "        text-align: right;\n",
       "    }\n",
       "</style>\n",
       "<table border=\"1\" class=\"dataframe\">\n",
       "  <thead>\n",
       "    <tr style=\"text-align: right;\">\n",
       "      <th></th>\n",
       "      <th>time</th>\n",
       "      <th>signal</th>\n",
       "    </tr>\n",
       "  </thead>\n",
       "  <tbody>\n",
       "    <tr>\n",
       "      <th>3748577</th>\n",
       "      <td>374.8578</td>\n",
       "      <td>3.075237</td>\n",
       "    </tr>\n",
       "    <tr>\n",
       "      <th>4555504</th>\n",
       "      <td>455.5505</td>\n",
       "      <td>6.494006</td>\n",
       "    </tr>\n",
       "    <tr>\n",
       "      <th>2388454</th>\n",
       "      <td>238.8455</td>\n",
       "      <td>3.357808</td>\n",
       "    </tr>\n",
       "    <tr>\n",
       "      <th>3738046</th>\n",
       "      <td>373.8047</td>\n",
       "      <td>3.075237</td>\n",
       "    </tr>\n",
       "    <tr>\n",
       "      <th>1572731</th>\n",
       "      <td>157.2732</td>\n",
       "      <td>-0.092984</td>\n",
       "    </tr>\n",
       "  </tbody>\n",
       "</table>\n",
       "</div>"
      ],
      "text/plain": [
       "             time    signal\n",
       "3748577  374.8578  3.075237\n",
       "4555504  455.5505  6.494006\n",
       "2388454  238.8455  3.357808\n",
       "3738046  373.8047  3.075237\n",
       "1572731  157.2732 -0.092984"
      ]
     },
     "execution_count": 44,
     "metadata": {},
     "output_type": "execute_result"
    }
   ],
   "source": [
    "val_X_1 = val_X[:50]\n",
    "val_X_1.head()"
   ]
  },
  {
   "cell_type": "code",
   "execution_count": 45,
   "metadata": {},
   "outputs": [
    {
     "data": {
      "text/plain": [
       "3748577    2\n",
       "4555504    7\n",
       "2388454    7\n",
       "3738046    2\n",
       "1572731    2\n",
       "Name: open_channels, dtype: int32"
      ]
     },
     "execution_count": 45,
     "metadata": {},
     "output_type": "execute_result"
    }
   ],
   "source": [
    "val_y_1 = val_y[:50]\n",
    "val_y_1.head()"
   ]
  },
  {
   "cell_type": "code",
   "execution_count": 40,
   "metadata": {},
   "outputs": [
    {
     "data": {
      "text/html": [
       "<div>\n",
       "<style scoped>\n",
       "    .dataframe tbody tr th:only-of-type {\n",
       "        vertical-align: middle;\n",
       "    }\n",
       "\n",
       "    .dataframe tbody tr th {\n",
       "        vertical-align: top;\n",
       "    }\n",
       "\n",
       "    .dataframe thead th {\n",
       "        text-align: right;\n",
       "    }\n",
       "</style>\n",
       "<table border=\"1\" class=\"dataframe\">\n",
       "  <thead>\n",
       "    <tr style=\"text-align: right;\">\n",
       "      <th></th>\n",
       "      <th>preds</th>\n",
       "    </tr>\n",
       "  </thead>\n",
       "  <tbody>\n",
       "    <tr>\n",
       "      <th>0</th>\n",
       "      <td>2</td>\n",
       "    </tr>\n",
       "    <tr>\n",
       "      <th>1</th>\n",
       "      <td>6</td>\n",
       "    </tr>\n",
       "    <tr>\n",
       "      <th>2</th>\n",
       "      <td>6</td>\n",
       "    </tr>\n",
       "    <tr>\n",
       "      <th>3</th>\n",
       "      <td>2</td>\n",
       "    </tr>\n",
       "    <tr>\n",
       "      <th>4</th>\n",
       "      <td>2</td>\n",
       "    </tr>\n",
       "    <tr>\n",
       "      <th>...</th>\n",
       "      <td>...</td>\n",
       "    </tr>\n",
       "    <tr>\n",
       "      <th>1249995</th>\n",
       "      <td>0</td>\n",
       "    </tr>\n",
       "    <tr>\n",
       "      <th>1249996</th>\n",
       "      <td>1</td>\n",
       "    </tr>\n",
       "    <tr>\n",
       "      <th>1249997</th>\n",
       "      <td>4</td>\n",
       "    </tr>\n",
       "    <tr>\n",
       "      <th>1249998</th>\n",
       "      <td>0</td>\n",
       "    </tr>\n",
       "    <tr>\n",
       "      <th>1249999</th>\n",
       "      <td>2</td>\n",
       "    </tr>\n",
       "  </tbody>\n",
       "</table>\n",
       "<p>1250000 rows × 1 columns</p>\n",
       "</div>"
      ],
      "text/plain": [
       "         preds\n",
       "0            2\n",
       "1            6\n",
       "2            6\n",
       "3            2\n",
       "4            2\n",
       "...        ...\n",
       "1249995      0\n",
       "1249996      1\n",
       "1249997      4\n",
       "1249998      0\n",
       "1249999      2\n",
       "\n",
       "[1250000 rows x 1 columns]"
      ]
     },
     "execution_count": 40,
     "metadata": {},
     "output_type": "execute_result"
    }
   ],
   "source": [
    "import math\n",
    "preds_l = preds_l.astype(int)\n",
    "preds_l_df = pd.DataFrame(data=preds_l, columns=['preds'])\n",
    "preds_plot = preds_l_df[:50]\n",
    "preds_l_df"
   ]
  },
  {
   "cell_type": "code",
   "execution_count": 41,
   "metadata": {},
   "outputs": [
    {
     "data": {
      "text/plain": [
       "<function matplotlib.pyplot.show(*args, **kw)>"
      ]
     },
     "execution_count": 41,
     "metadata": {},
     "output_type": "execute_result"
    },
    {
     "data": {
      "image/png": "[encoded data removed]",
      "text/plain": [
       "<Figure size 432x288 with 1 Axes>"
      ]
     },
     "metadata": {
      "needs_background": "light"
     },
     "output_type": "display_data"
    }
   ],
   "source": [
    "plt.plot(val_X_1.time, val_y_1)\n",
    "plt.plot(val_X_1.time, preds_plot.preds)\n",
    "plt.rcParams[\"figure.figsize\"] = [8, 6]\n",
    "plt.legend(['Original', 'prediction'])\n",
    "plt.show"
   ]
  },
  {
   "cell_type": "code",
   "execution_count": 43,
   "metadata": {},
   "outputs": [
    {
     "data": {
      "text/plain": [
       "0.5505824"
      ]
     },
     "execution_count": 43,
     "metadata": {},
     "output_type": "execute_result"
    }
   ],
   "source": [
    "from sklearn.metrics import mean_absolute_error\n",
    "mae = mean_absolute_error(val_y, preds_l)\n",
    "mae"
   ]
  },
  {
   "cell_type": "code",
   "execution_count": 47,
   "metadata": {},
   "outputs": [
    {
     "data": {
      "text/plain": [
       "0.9175741223292129"
      ]
     },
     "execution_count": 47,
     "metadata": {},
     "output_type": "execute_result"
    }
   ],
   "source": [
    "scorel = l_model.score(train_X,train_y)\n",
    "scorel"
   ]
  },
  {
   "cell_type": "code",
   "execution_count": null,
   "metadata": {},
   "outputs": [],
   "source": []
  }
 ],
 "metadata": {
  "kernelspec": {
   "display_name": "Python 3",
   "language": "python",
   "name": "python3"
  },
  "language_info": {
   "codemirror_mode": {
    "name": "ipython",
    "version": 3
   },
   "file_extension": ".py",
   "mimetype": "text/x-python",
   "name": "python",
   "nbconvert_exporter": "python",
   "pygments_lexer": "ipython3",
   "version": "3.7.6"
  }
 },
 "nbformat": 4,
 "nbformat_minor": 4
}
